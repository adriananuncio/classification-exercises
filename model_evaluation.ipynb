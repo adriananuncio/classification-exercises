{
 "cells": [
  {
   "cell_type": "code",
   "execution_count": 1,
   "id": "a5144e6b",
   "metadata": {},
   "outputs": [],
   "source": [
    "from pydataset import data\n",
    "import numpy as np\n",
    "import math\n",
    "import matplotlib.pyplot as plt\n",
    "import scipy.stats as stats\n",
    "import seaborn as sns\n",
    "%matplotlib inline\n",
    "import pandas as pd\n",
    "import env"
   ]
  },
  {
   "cell_type": "code",
   "execution_count": 2,
   "id": "c988782b",
   "metadata": {},
   "outputs": [],
   "source": [
    "from sklearn.metrics import confusion_matrix"
   ]
  },
  {
   "cell_type": "markdown",
   "id": "9979980b",
   "metadata": {},
   "source": [
    "##### 1. Create a new file named model_evaluation for these exercises."
   ]
  },
  {
   "cell_type": "code",
   "execution_count": 14,
   "id": "3a44a362",
   "metadata": {},
   "outputs": [],
   "source": [
    "# done"
   ]
  },
  {
   "cell_type": "markdown",
   "id": "f92486f2",
   "metadata": {},
   "source": [
    "##### 2. Evaluate the model's performance\n",
    "\n",
    "a. In the context of this problem, what is a false positive?\n",
    "\n",
    "b. In the context of this problem, what is a false negative?\n",
    "\n",
    "c. How would you describe this model?"
   ]
  },
  {
   "cell_type": "code",
   "execution_count": 3,
   "id": "8535c555",
   "metadata": {},
   "outputs": [],
   "source": [
    "# ACCURACY\n",
    "def accuracy(TP, FP, FN, TN):\n",
    "    return (TP+TN)/(TP+TN+FP+FN)\n",
    "\n",
    "# PRECISION\n",
    "def precision(TP, FP, FN, TN): \n",
    "    return TP/(TP+FP)\n",
    "\n",
    "# RECALL\n",
    "def recall(TP, FP, FN, TN):\n",
    "    return TP/(TP+FN)"
   ]
  },
  {
   "cell_type": "code",
   "execution_count": 16,
   "id": "fb29401a",
   "metadata": {},
   "outputs": [],
   "source": [
    "# TP = 46 \n",
    "# FP = 13 \n",
    "# FN = 7\n",
    "# TN = 34 \n"
   ]
  },
  {
   "cell_type": "code",
   "execution_count": 63,
   "id": "cab1c4a1",
   "metadata": {},
   "outputs": [
    {
     "data": {
      "text/plain": [
       "0.8"
      ]
     },
     "execution_count": 63,
     "metadata": {},
     "output_type": "execute_result"
    }
   ],
   "source": [
    "# ACCURACY\n",
    "accuracy(46, 13, 7, 34)"
   ]
  },
  {
   "cell_type": "code",
   "execution_count": 19,
   "id": "53171719",
   "metadata": {},
   "outputs": [
    {
     "data": {
      "text/plain": [
       "0.8679245283018868"
      ]
     },
     "execution_count": 19,
     "metadata": {},
     "output_type": "execute_result"
    }
   ],
   "source": [
    "# RECALL\n",
    "recall(46, 13, 7, 34)"
   ]
  },
  {
   "cell_type": "code",
   "execution_count": 20,
   "id": "7945f5d5",
   "metadata": {},
   "outputs": [
    {
     "data": {
      "text/plain": [
       "0.7796610169491526"
      ]
     },
     "execution_count": 20,
     "metadata": {},
     "output_type": "execute_result"
    }
   ],
   "source": [
    "# PRECISION\n",
    "precision(46, 13, 7, 34)"
   ]
  },
  {
   "cell_type": "markdown",
   "id": "0d67a500",
   "metadata": {},
   "source": [
    "##### a. In the context of this problem, what is a false positive?"
   ]
  },
  {
   "cell_type": "code",
   "execution_count": null,
   "id": "28d99f98",
   "metadata": {},
   "outputs": [],
   "source": [
    "# predicted dog, actually cat"
   ]
  },
  {
   "cell_type": "markdown",
   "id": "66280e90",
   "metadata": {},
   "source": [
    "##### b. In the context of this problem, what is a false negative?"
   ]
  },
  {
   "cell_type": "code",
   "execution_count": null,
   "id": "91b7ebd1",
   "metadata": {},
   "outputs": [],
   "source": [
    "# predicted cat, actually dog"
   ]
  },
  {
   "cell_type": "markdown",
   "id": "548df535",
   "metadata": {},
   "source": [
    "##### c. How would you describe this model?"
   ]
  },
  {
   "cell_type": "code",
   "execution_count": null,
   "id": "523b87c9",
   "metadata": {},
   "outputs": [],
   "source": []
  },
  {
   "cell_type": "markdown",
   "id": "5a7911e3",
   "metadata": {},
   "source": [
    "##### 3. You are working as a datascientist working for Codeup Cody Creator (C3 for short), a rubber-duck manufacturing plant. Unfortunately, some of the rubber ducks that are produced will have defects. Your team has built several models that try to predict those defects.\n",
    "\n",
    "Use the predictions dataset and pandas to help answer the following questions:\n",
    "\n",
    "a. An internal team wants to investigate the cause of the manufacturing defects. They tell you that they want to identify as many of the ducks that have a defect as possible. Which evaluation metric would be appropriate here? Which model would be the best fit for this use case?\n",
    "\n",
    "b. Recently several stories in the local news have come out highlighting customers who received a rubber duck with a defect, and portraying C3 in a bad light. The PR team has decided to launch a program that gives customers with a defective duck a vacation to Hawaii. They need you to predict which ducks will have defects, but tell you the really don't want to accidentally give out a vacation package when the duck really doesn't have a defect. Which evaluation metric would be appropriate here? Which model would be the best fit for this use case?"
   ]
  },
  {
   "cell_type": "code",
   "execution_count": 25,
   "id": "1d65d099",
   "metadata": {},
   "outputs": [],
   "source": [
    "df = pd.read_csv('/Users/adriananuncio/Documents/CodeUp/c3.csv')"
   ]
  },
  {
   "cell_type": "code",
   "execution_count": 27,
   "id": "fef438b2",
   "metadata": {},
   "outputs": [
    {
     "data": {
      "text/html": [
       "<div>\n",
       "<style scoped>\n",
       "    .dataframe tbody tr th:only-of-type {\n",
       "        vertical-align: middle;\n",
       "    }\n",
       "\n",
       "    .dataframe tbody tr th {\n",
       "        vertical-align: top;\n",
       "    }\n",
       "\n",
       "    .dataframe thead th {\n",
       "        text-align: right;\n",
       "    }\n",
       "</style>\n",
       "<table border=\"1\" class=\"dataframe\">\n",
       "  <thead>\n",
       "    <tr style=\"text-align: right;\">\n",
       "      <th></th>\n",
       "      <th>actual</th>\n",
       "      <th>model1</th>\n",
       "      <th>model2</th>\n",
       "      <th>model3</th>\n",
       "    </tr>\n",
       "  </thead>\n",
       "  <tbody>\n",
       "    <tr>\n",
       "      <th>0</th>\n",
       "      <td>No Defect</td>\n",
       "      <td>No Defect</td>\n",
       "      <td>Defect</td>\n",
       "      <td>No Defect</td>\n",
       "    </tr>\n",
       "    <tr>\n",
       "      <th>1</th>\n",
       "      <td>No Defect</td>\n",
       "      <td>No Defect</td>\n",
       "      <td>Defect</td>\n",
       "      <td>Defect</td>\n",
       "    </tr>\n",
       "    <tr>\n",
       "      <th>2</th>\n",
       "      <td>No Defect</td>\n",
       "      <td>No Defect</td>\n",
       "      <td>Defect</td>\n",
       "      <td>No Defect</td>\n",
       "    </tr>\n",
       "    <tr>\n",
       "      <th>3</th>\n",
       "      <td>No Defect</td>\n",
       "      <td>Defect</td>\n",
       "      <td>Defect</td>\n",
       "      <td>Defect</td>\n",
       "    </tr>\n",
       "    <tr>\n",
       "      <th>4</th>\n",
       "      <td>No Defect</td>\n",
       "      <td>No Defect</td>\n",
       "      <td>Defect</td>\n",
       "      <td>No Defect</td>\n",
       "    </tr>\n",
       "    <tr>\n",
       "      <th>...</th>\n",
       "      <td>...</td>\n",
       "      <td>...</td>\n",
       "      <td>...</td>\n",
       "      <td>...</td>\n",
       "    </tr>\n",
       "    <tr>\n",
       "      <th>195</th>\n",
       "      <td>No Defect</td>\n",
       "      <td>No Defect</td>\n",
       "      <td>Defect</td>\n",
       "      <td>Defect</td>\n",
       "    </tr>\n",
       "    <tr>\n",
       "      <th>196</th>\n",
       "      <td>Defect</td>\n",
       "      <td>Defect</td>\n",
       "      <td>No Defect</td>\n",
       "      <td>No Defect</td>\n",
       "    </tr>\n",
       "    <tr>\n",
       "      <th>197</th>\n",
       "      <td>No Defect</td>\n",
       "      <td>No Defect</td>\n",
       "      <td>No Defect</td>\n",
       "      <td>No Defect</td>\n",
       "    </tr>\n",
       "    <tr>\n",
       "      <th>198</th>\n",
       "      <td>No Defect</td>\n",
       "      <td>No Defect</td>\n",
       "      <td>Defect</td>\n",
       "      <td>Defect</td>\n",
       "    </tr>\n",
       "    <tr>\n",
       "      <th>199</th>\n",
       "      <td>No Defect</td>\n",
       "      <td>No Defect</td>\n",
       "      <td>No Defect</td>\n",
       "      <td>Defect</td>\n",
       "    </tr>\n",
       "  </tbody>\n",
       "</table>\n",
       "<p>200 rows × 4 columns</p>\n",
       "</div>"
      ],
      "text/plain": [
       "        actual     model1     model2     model3\n",
       "0    No Defect  No Defect     Defect  No Defect\n",
       "1    No Defect  No Defect     Defect     Defect\n",
       "2    No Defect  No Defect     Defect  No Defect\n",
       "3    No Defect     Defect     Defect     Defect\n",
       "4    No Defect  No Defect     Defect  No Defect\n",
       "..         ...        ...        ...        ...\n",
       "195  No Defect  No Defect     Defect     Defect\n",
       "196     Defect     Defect  No Defect  No Defect\n",
       "197  No Defect  No Defect  No Defect  No Defect\n",
       "198  No Defect  No Defect     Defect     Defect\n",
       "199  No Defect  No Defect  No Defect     Defect\n",
       "\n",
       "[200 rows x 4 columns]"
      ]
     },
     "execution_count": 27,
     "metadata": {},
     "output_type": "execute_result"
    }
   ],
   "source": [
    "df"
   ]
  },
  {
   "cell_type": "code",
   "execution_count": 28,
   "id": "62e58a87",
   "metadata": {},
   "outputs": [],
   "source": [
    "model_1 = pd.crosstab(df.actual, df.model1)\n",
    "\n",
    "model_1_cm = confusion_matrix(df.actual, df.model1,\n",
    "                 labels = ('Defect', 'No Defect'))"
   ]
  },
  {
   "cell_type": "code",
   "execution_count": 29,
   "id": "0d137c4c",
   "metadata": {},
   "outputs": [
    {
     "data": {
      "text/html": [
       "<div>\n",
       "<style scoped>\n",
       "    .dataframe tbody tr th:only-of-type {\n",
       "        vertical-align: middle;\n",
       "    }\n",
       "\n",
       "    .dataframe tbody tr th {\n",
       "        vertical-align: top;\n",
       "    }\n",
       "\n",
       "    .dataframe thead th {\n",
       "        text-align: right;\n",
       "    }\n",
       "</style>\n",
       "<table border=\"1\" class=\"dataframe\">\n",
       "  <thead>\n",
       "    <tr style=\"text-align: right;\">\n",
       "      <th>model1</th>\n",
       "      <th>Defect</th>\n",
       "      <th>No Defect</th>\n",
       "    </tr>\n",
       "    <tr>\n",
       "      <th>actual</th>\n",
       "      <th></th>\n",
       "      <th></th>\n",
       "    </tr>\n",
       "  </thead>\n",
       "  <tbody>\n",
       "    <tr>\n",
       "      <th>Defect</th>\n",
       "      <td>8</td>\n",
       "      <td>8</td>\n",
       "    </tr>\n",
       "    <tr>\n",
       "      <th>No Defect</th>\n",
       "      <td>2</td>\n",
       "      <td>182</td>\n",
       "    </tr>\n",
       "  </tbody>\n",
       "</table>\n",
       "</div>"
      ],
      "text/plain": [
       "model1     Defect  No Defect\n",
       "actual                      \n",
       "Defect          8          8\n",
       "No Defect       2        182"
      ]
     },
     "execution_count": 29,
     "metadata": {},
     "output_type": "execute_result"
    }
   ],
   "source": [
    "model_1"
   ]
  },
  {
   "cell_type": "code",
   "execution_count": 30,
   "id": "94e6af71",
   "metadata": {},
   "outputs": [
    {
     "data": {
      "text/plain": [
       "array([[  8,   8],\n",
       "       [  2, 182]])"
      ]
     },
     "execution_count": 30,
     "metadata": {},
     "output_type": "execute_result"
    }
   ],
   "source": [
    "model_1_cm"
   ]
  },
  {
   "cell_type": "code",
   "execution_count": 31,
   "id": "9b26b7e1",
   "metadata": {},
   "outputs": [],
   "source": [
    "model_2 = pd.crosstab(df.actual, df.model2)\n",
    "\n",
    "model_2_cm = confusion_matrix(df.actual, df.model2,\n",
    "                 labels = ('Defect', 'No Defect'))"
   ]
  },
  {
   "cell_type": "code",
   "execution_count": 32,
   "id": "4db8d0fe",
   "metadata": {},
   "outputs": [
    {
     "data": {
      "text/html": [
       "<div>\n",
       "<style scoped>\n",
       "    .dataframe tbody tr th:only-of-type {\n",
       "        vertical-align: middle;\n",
       "    }\n",
       "\n",
       "    .dataframe tbody tr th {\n",
       "        vertical-align: top;\n",
       "    }\n",
       "\n",
       "    .dataframe thead th {\n",
       "        text-align: right;\n",
       "    }\n",
       "</style>\n",
       "<table border=\"1\" class=\"dataframe\">\n",
       "  <thead>\n",
       "    <tr style=\"text-align: right;\">\n",
       "      <th>model2</th>\n",
       "      <th>Defect</th>\n",
       "      <th>No Defect</th>\n",
       "    </tr>\n",
       "    <tr>\n",
       "      <th>actual</th>\n",
       "      <th></th>\n",
       "      <th></th>\n",
       "    </tr>\n",
       "  </thead>\n",
       "  <tbody>\n",
       "    <tr>\n",
       "      <th>Defect</th>\n",
       "      <td>9</td>\n",
       "      <td>7</td>\n",
       "    </tr>\n",
       "    <tr>\n",
       "      <th>No Defect</th>\n",
       "      <td>81</td>\n",
       "      <td>103</td>\n",
       "    </tr>\n",
       "  </tbody>\n",
       "</table>\n",
       "</div>"
      ],
      "text/plain": [
       "model2     Defect  No Defect\n",
       "actual                      \n",
       "Defect          9          7\n",
       "No Defect      81        103"
      ]
     },
     "execution_count": 32,
     "metadata": {},
     "output_type": "execute_result"
    }
   ],
   "source": [
    "model_2"
   ]
  },
  {
   "cell_type": "code",
   "execution_count": 33,
   "id": "d78f4492",
   "metadata": {},
   "outputs": [
    {
     "data": {
      "text/plain": [
       "array([[  9,   7],\n",
       "       [ 81, 103]])"
      ]
     },
     "execution_count": 33,
     "metadata": {},
     "output_type": "execute_result"
    }
   ],
   "source": [
    "model_2_cm"
   ]
  },
  {
   "cell_type": "code",
   "execution_count": 34,
   "id": "4d9d0bfa",
   "metadata": {},
   "outputs": [],
   "source": [
    "model_3 = pd.crosstab(df.actual, df.model3)\n",
    "\n",
    "model_3_cm = confusion_matrix(df.actual, df.model3,\n",
    "                 labels = ('Defect', 'No Defect'))"
   ]
  },
  {
   "cell_type": "code",
   "execution_count": 35,
   "id": "2e347f13",
   "metadata": {},
   "outputs": [
    {
     "data": {
      "text/html": [
       "<div>\n",
       "<style scoped>\n",
       "    .dataframe tbody tr th:only-of-type {\n",
       "        vertical-align: middle;\n",
       "    }\n",
       "\n",
       "    .dataframe tbody tr th {\n",
       "        vertical-align: top;\n",
       "    }\n",
       "\n",
       "    .dataframe thead th {\n",
       "        text-align: right;\n",
       "    }\n",
       "</style>\n",
       "<table border=\"1\" class=\"dataframe\">\n",
       "  <thead>\n",
       "    <tr style=\"text-align: right;\">\n",
       "      <th>model3</th>\n",
       "      <th>Defect</th>\n",
       "      <th>No Defect</th>\n",
       "    </tr>\n",
       "    <tr>\n",
       "      <th>actual</th>\n",
       "      <th></th>\n",
       "      <th></th>\n",
       "    </tr>\n",
       "  </thead>\n",
       "  <tbody>\n",
       "    <tr>\n",
       "      <th>Defect</th>\n",
       "      <td>13</td>\n",
       "      <td>3</td>\n",
       "    </tr>\n",
       "    <tr>\n",
       "      <th>No Defect</th>\n",
       "      <td>86</td>\n",
       "      <td>98</td>\n",
       "    </tr>\n",
       "  </tbody>\n",
       "</table>\n",
       "</div>"
      ],
      "text/plain": [
       "model3     Defect  No Defect\n",
       "actual                      \n",
       "Defect         13          3\n",
       "No Defect      86         98"
      ]
     },
     "execution_count": 35,
     "metadata": {},
     "output_type": "execute_result"
    }
   ],
   "source": [
    "model_3"
   ]
  },
  {
   "cell_type": "code",
   "execution_count": 36,
   "id": "dff4464d",
   "metadata": {},
   "outputs": [
    {
     "data": {
      "text/plain": [
       "array([[13,  3],\n",
       "       [86, 98]])"
      ]
     },
     "execution_count": 36,
     "metadata": {},
     "output_type": "execute_result"
    }
   ],
   "source": [
    "model_3_cm"
   ]
  },
  {
   "cell_type": "markdown",
   "id": "746db8cf",
   "metadata": {},
   "source": [
    "##### a. An internal team wants to investigate the cause of the manufacturing defects. They tell you that they want to identify as many of the ducks that have a defect as possible. Which evaluation metric would be appropriate here? Which model would be the best fit for this use case?"
   ]
  },
  {
   "cell_type": "code",
   "execution_count": 43,
   "id": "b5c26769",
   "metadata": {},
   "outputs": [],
   "source": [
    "# precission"
   ]
  },
  {
   "cell_type": "code",
   "execution_count": 37,
   "id": "da2b442a",
   "metadata": {},
   "outputs": [
    {
     "data": {
      "text/plain": [
       "array([[13,  3],\n",
       "       [86, 98]])"
      ]
     },
     "execution_count": 37,
     "metadata": {},
     "output_type": "execute_result"
    }
   ],
   "source": [
    "model_3_cm"
   ]
  },
  {
   "cell_type": "code",
   "execution_count": 21,
   "id": "97ecd896",
   "metadata": {},
   "outputs": [
    {
     "data": {
      "text/plain": [
       "0.5"
      ]
     },
     "execution_count": 21,
     "metadata": {},
     "output_type": "execute_result"
    }
   ],
   "source": [
    "# model_1\n",
    "\n",
    "# TP = 8\n",
    "# FP = 8\n",
    "# FN = 2\n",
    "# TN = 182\n",
    "\n",
    "precision(8, 8, 2, 182)"
   ]
  },
  {
   "cell_type": "code",
   "execution_count": 72,
   "id": "a5e27281",
   "metadata": {},
   "outputs": [],
   "source": [
    "# model_2\n",
    "\n",
    "# TP = 9\n",
    "# FP = 7\n",
    "# FN = 81\n",
    "# TN = 103"
   ]
  },
  {
   "cell_type": "code",
   "execution_count": 22,
   "id": "022e7b3a",
   "metadata": {},
   "outputs": [
    {
     "data": {
      "text/plain": [
       "0.5625"
      ]
     },
     "execution_count": 22,
     "metadata": {},
     "output_type": "execute_result"
    }
   ],
   "source": [
    "precision(9, 7, 81, 103)"
   ]
  },
  {
   "cell_type": "code",
   "execution_count": 38,
   "id": "f1f13ba6",
   "metadata": {},
   "outputs": [
    {
     "data": {
      "text/plain": [
       "0.8125"
      ]
     },
     "execution_count": 38,
     "metadata": {},
     "output_type": "execute_result"
    }
   ],
   "source": [
    "# model_3\n",
    "\n",
    "# TP = 13\n",
    "# FP = 3\n",
    "# FN = 86\n",
    "# TN = 98\n",
    "\n",
    "precision(13, 3, 86, 98)"
   ]
  },
  {
   "cell_type": "code",
   "execution_count": 39,
   "id": "d48c1d9c",
   "metadata": {},
   "outputs": [],
   "source": [
    "# model_3 would be the most precise model and the model that \n",
    "# -- would be the best to use for predicting as many defective \n",
    "# -- ducks as possible"
   ]
  },
  {
   "cell_type": "markdown",
   "id": "903445c7",
   "metadata": {},
   "source": [
    "##### b. Recently several stories in the local news have come out highlighting customers who received a rubber duck with a defect, and portraying C3 in a bad light. The PR team has decided to launch a program that gives customers with a defective duck a vacation to Hawaii. \n",
    "They need you to predict which ducks will have defects, but tell you the really don't want to accidentally give out a vacation package when the duck really doesn't have a defect. \n",
    "\n",
    "Which evaluation metric would be appropriate here? Which model would be the best fit for this use case?"
   ]
  },
  {
   "cell_type": "code",
   "execution_count": 40,
   "id": "d551a09f",
   "metadata": {},
   "outputs": [],
   "source": [
    "# recall"
   ]
  },
  {
   "cell_type": "code",
   "execution_count": 41,
   "id": "c33b06fd",
   "metadata": {},
   "outputs": [
    {
     "data": {
      "text/plain": [
       "0.8"
      ]
     },
     "execution_count": 41,
     "metadata": {},
     "output_type": "execute_result"
    }
   ],
   "source": [
    "# model_1\n",
    "recall(8, 8, 2, 182)"
   ]
  },
  {
   "cell_type": "code",
   "execution_count": 42,
   "id": "ddeb3cd9",
   "metadata": {},
   "outputs": [
    {
     "data": {
      "text/plain": [
       "0.1"
      ]
     },
     "execution_count": 42,
     "metadata": {},
     "output_type": "execute_result"
    }
   ],
   "source": [
    "# model_2\n",
    "recall(9, 7, 81, 103)"
   ]
  },
  {
   "cell_type": "code",
   "execution_count": 44,
   "id": "7e57df9b",
   "metadata": {},
   "outputs": [
    {
     "data": {
      "text/plain": [
       "0.13131313131313133"
      ]
     },
     "execution_count": 44,
     "metadata": {},
     "output_type": "execute_result"
    }
   ],
   "source": [
    "# model_3\n",
    "recall(13, 3, 86, 98)"
   ]
  },
  {
   "cell_type": "code",
   "execution_count": null,
   "id": "49af83b0",
   "metadata": {},
   "outputs": [],
   "source": [
    "# model_1 would be the best selection for identifying \n",
    "# -- which ducks will be defective, and avoiding accidentally\n",
    "# -- giving away a free vacation"
   ]
  },
  {
   "cell_type": "markdown",
   "id": "d6e4ccfd",
   "metadata": {},
   "source": [
    "##### 4. Given this dataset, use pandas to create a baseline model (i.e. a model that just predicts the most common class) and answer the following questions:"
   ]
  },
  {
   "cell_type": "code",
   "execution_count": 4,
   "id": "6e2b18c6",
   "metadata": {},
   "outputs": [],
   "source": [
    "df = pd.read_csv('/Users/adriananuncio/Documents/CodeUp/gives_you_paws.csv')"
   ]
  },
  {
   "cell_type": "code",
   "execution_count": 5,
   "id": "1858d267",
   "metadata": {},
   "outputs": [
    {
     "data": {
      "text/html": [
       "<div>\n",
       "<style scoped>\n",
       "    .dataframe tbody tr th:only-of-type {\n",
       "        vertical-align: middle;\n",
       "    }\n",
       "\n",
       "    .dataframe tbody tr th {\n",
       "        vertical-align: top;\n",
       "    }\n",
       "\n",
       "    .dataframe thead th {\n",
       "        text-align: right;\n",
       "    }\n",
       "</style>\n",
       "<table border=\"1\" class=\"dataframe\">\n",
       "  <thead>\n",
       "    <tr style=\"text-align: right;\">\n",
       "      <th></th>\n",
       "      <th>actual</th>\n",
       "      <th>model1</th>\n",
       "      <th>model2</th>\n",
       "      <th>model3</th>\n",
       "      <th>model4</th>\n",
       "    </tr>\n",
       "  </thead>\n",
       "  <tbody>\n",
       "    <tr>\n",
       "      <th>0</th>\n",
       "      <td>cat</td>\n",
       "      <td>cat</td>\n",
       "      <td>dog</td>\n",
       "      <td>cat</td>\n",
       "      <td>dog</td>\n",
       "    </tr>\n",
       "    <tr>\n",
       "      <th>1</th>\n",
       "      <td>dog</td>\n",
       "      <td>dog</td>\n",
       "      <td>cat</td>\n",
       "      <td>cat</td>\n",
       "      <td>dog</td>\n",
       "    </tr>\n",
       "    <tr>\n",
       "      <th>2</th>\n",
       "      <td>dog</td>\n",
       "      <td>cat</td>\n",
       "      <td>cat</td>\n",
       "      <td>cat</td>\n",
       "      <td>dog</td>\n",
       "    </tr>\n",
       "    <tr>\n",
       "      <th>3</th>\n",
       "      <td>dog</td>\n",
       "      <td>dog</td>\n",
       "      <td>dog</td>\n",
       "      <td>cat</td>\n",
       "      <td>dog</td>\n",
       "    </tr>\n",
       "    <tr>\n",
       "      <th>4</th>\n",
       "      <td>cat</td>\n",
       "      <td>cat</td>\n",
       "      <td>cat</td>\n",
       "      <td>dog</td>\n",
       "      <td>dog</td>\n",
       "    </tr>\n",
       "    <tr>\n",
       "      <th>...</th>\n",
       "      <td>...</td>\n",
       "      <td>...</td>\n",
       "      <td>...</td>\n",
       "      <td>...</td>\n",
       "      <td>...</td>\n",
       "    </tr>\n",
       "    <tr>\n",
       "      <th>4995</th>\n",
       "      <td>dog</td>\n",
       "      <td>dog</td>\n",
       "      <td>dog</td>\n",
       "      <td>dog</td>\n",
       "      <td>dog</td>\n",
       "    </tr>\n",
       "    <tr>\n",
       "      <th>4996</th>\n",
       "      <td>dog</td>\n",
       "      <td>dog</td>\n",
       "      <td>cat</td>\n",
       "      <td>cat</td>\n",
       "      <td>dog</td>\n",
       "    </tr>\n",
       "    <tr>\n",
       "      <th>4997</th>\n",
       "      <td>dog</td>\n",
       "      <td>cat</td>\n",
       "      <td>cat</td>\n",
       "      <td>dog</td>\n",
       "      <td>dog</td>\n",
       "    </tr>\n",
       "    <tr>\n",
       "      <th>4998</th>\n",
       "      <td>cat</td>\n",
       "      <td>cat</td>\n",
       "      <td>cat</td>\n",
       "      <td>cat</td>\n",
       "      <td>dog</td>\n",
       "    </tr>\n",
       "    <tr>\n",
       "      <th>4999</th>\n",
       "      <td>dog</td>\n",
       "      <td>dog</td>\n",
       "      <td>dog</td>\n",
       "      <td>dog</td>\n",
       "      <td>dog</td>\n",
       "    </tr>\n",
       "  </tbody>\n",
       "</table>\n",
       "<p>5000 rows × 5 columns</p>\n",
       "</div>"
      ],
      "text/plain": [
       "     actual model1 model2 model3 model4\n",
       "0       cat    cat    dog    cat    dog\n",
       "1       dog    dog    cat    cat    dog\n",
       "2       dog    cat    cat    cat    dog\n",
       "3       dog    dog    dog    cat    dog\n",
       "4       cat    cat    cat    dog    dog\n",
       "...     ...    ...    ...    ...    ...\n",
       "4995    dog    dog    dog    dog    dog\n",
       "4996    dog    dog    cat    cat    dog\n",
       "4997    dog    cat    cat    dog    dog\n",
       "4998    cat    cat    cat    cat    dog\n",
       "4999    dog    dog    dog    dog    dog\n",
       "\n",
       "[5000 rows x 5 columns]"
      ]
     },
     "execution_count": 5,
     "metadata": {},
     "output_type": "execute_result"
    }
   ],
   "source": [
    "df"
   ]
  },
  {
   "cell_type": "code",
   "execution_count": 6,
   "id": "66acdc8c",
   "metadata": {},
   "outputs": [],
   "source": [
    "df.insert(1, 'baseline', 'dog')"
   ]
  },
  {
   "cell_type": "code",
   "execution_count": 7,
   "id": "b49d0263",
   "metadata": {},
   "outputs": [
    {
     "data": {
      "text/html": [
       "<div>\n",
       "<style scoped>\n",
       "    .dataframe tbody tr th:only-of-type {\n",
       "        vertical-align: middle;\n",
       "    }\n",
       "\n",
       "    .dataframe tbody tr th {\n",
       "        vertical-align: top;\n",
       "    }\n",
       "\n",
       "    .dataframe thead th {\n",
       "        text-align: right;\n",
       "    }\n",
       "</style>\n",
       "<table border=\"1\" class=\"dataframe\">\n",
       "  <thead>\n",
       "    <tr style=\"text-align: right;\">\n",
       "      <th></th>\n",
       "      <th>actual</th>\n",
       "      <th>baseline</th>\n",
       "      <th>model1</th>\n",
       "      <th>model2</th>\n",
       "      <th>model3</th>\n",
       "      <th>model4</th>\n",
       "    </tr>\n",
       "  </thead>\n",
       "  <tbody>\n",
       "    <tr>\n",
       "      <th>0</th>\n",
       "      <td>cat</td>\n",
       "      <td>dog</td>\n",
       "      <td>cat</td>\n",
       "      <td>dog</td>\n",
       "      <td>cat</td>\n",
       "      <td>dog</td>\n",
       "    </tr>\n",
       "    <tr>\n",
       "      <th>1</th>\n",
       "      <td>dog</td>\n",
       "      <td>dog</td>\n",
       "      <td>dog</td>\n",
       "      <td>cat</td>\n",
       "      <td>cat</td>\n",
       "      <td>dog</td>\n",
       "    </tr>\n",
       "    <tr>\n",
       "      <th>2</th>\n",
       "      <td>dog</td>\n",
       "      <td>dog</td>\n",
       "      <td>cat</td>\n",
       "      <td>cat</td>\n",
       "      <td>cat</td>\n",
       "      <td>dog</td>\n",
       "    </tr>\n",
       "    <tr>\n",
       "      <th>3</th>\n",
       "      <td>dog</td>\n",
       "      <td>dog</td>\n",
       "      <td>dog</td>\n",
       "      <td>dog</td>\n",
       "      <td>cat</td>\n",
       "      <td>dog</td>\n",
       "    </tr>\n",
       "    <tr>\n",
       "      <th>4</th>\n",
       "      <td>cat</td>\n",
       "      <td>dog</td>\n",
       "      <td>cat</td>\n",
       "      <td>cat</td>\n",
       "      <td>dog</td>\n",
       "      <td>dog</td>\n",
       "    </tr>\n",
       "    <tr>\n",
       "      <th>...</th>\n",
       "      <td>...</td>\n",
       "      <td>...</td>\n",
       "      <td>...</td>\n",
       "      <td>...</td>\n",
       "      <td>...</td>\n",
       "      <td>...</td>\n",
       "    </tr>\n",
       "    <tr>\n",
       "      <th>4995</th>\n",
       "      <td>dog</td>\n",
       "      <td>dog</td>\n",
       "      <td>dog</td>\n",
       "      <td>dog</td>\n",
       "      <td>dog</td>\n",
       "      <td>dog</td>\n",
       "    </tr>\n",
       "    <tr>\n",
       "      <th>4996</th>\n",
       "      <td>dog</td>\n",
       "      <td>dog</td>\n",
       "      <td>dog</td>\n",
       "      <td>cat</td>\n",
       "      <td>cat</td>\n",
       "      <td>dog</td>\n",
       "    </tr>\n",
       "    <tr>\n",
       "      <th>4997</th>\n",
       "      <td>dog</td>\n",
       "      <td>dog</td>\n",
       "      <td>cat</td>\n",
       "      <td>cat</td>\n",
       "      <td>dog</td>\n",
       "      <td>dog</td>\n",
       "    </tr>\n",
       "    <tr>\n",
       "      <th>4998</th>\n",
       "      <td>cat</td>\n",
       "      <td>dog</td>\n",
       "      <td>cat</td>\n",
       "      <td>cat</td>\n",
       "      <td>cat</td>\n",
       "      <td>dog</td>\n",
       "    </tr>\n",
       "    <tr>\n",
       "      <th>4999</th>\n",
       "      <td>dog</td>\n",
       "      <td>dog</td>\n",
       "      <td>dog</td>\n",
       "      <td>dog</td>\n",
       "      <td>dog</td>\n",
       "      <td>dog</td>\n",
       "    </tr>\n",
       "  </tbody>\n",
       "</table>\n",
       "<p>5000 rows × 6 columns</p>\n",
       "</div>"
      ],
      "text/plain": [
       "     actual baseline model1 model2 model3 model4\n",
       "0       cat      dog    cat    dog    cat    dog\n",
       "1       dog      dog    dog    cat    cat    dog\n",
       "2       dog      dog    cat    cat    cat    dog\n",
       "3       dog      dog    dog    dog    cat    dog\n",
       "4       cat      dog    cat    cat    dog    dog\n",
       "...     ...      ...    ...    ...    ...    ...\n",
       "4995    dog      dog    dog    dog    dog    dog\n",
       "4996    dog      dog    dog    cat    cat    dog\n",
       "4997    dog      dog    cat    cat    dog    dog\n",
       "4998    cat      dog    cat    cat    cat    dog\n",
       "4999    dog      dog    dog    dog    dog    dog\n",
       "\n",
       "[5000 rows x 6 columns]"
      ]
     },
     "execution_count": 7,
     "metadata": {},
     "output_type": "execute_result"
    }
   ],
   "source": [
    "df"
   ]
  },
  {
   "cell_type": "code",
   "execution_count": null,
   "id": "3f71764d",
   "metadata": {},
   "outputs": [],
   "source": [
    "# TP = 13\n",
    "# FP = 3\n",
    "# FN = 86\n",
    "# TN = 98\n",
    "\n",
    "precision(13, 3, 86, 98)"
   ]
  },
  {
   "cell_type": "markdown",
   "id": "9761fa50",
   "metadata": {},
   "source": [
    "##### 4a. In terms of accuracy, how do the various models compare to the baseline model? Are any of the models better than the baseline?"
   ]
  },
  {
   "cell_type": "code",
   "execution_count": 46,
   "id": "497da829",
   "metadata": {},
   "outputs": [],
   "source": [
    "# actual x baseline\n",
    "a_b = pd.crosstab(df['baseline'], df['actual'])"
   ]
  },
  {
   "cell_type": "code",
   "execution_count": 47,
   "id": "ccb46399",
   "metadata": {},
   "outputs": [],
   "source": [
    "baseline_cm = confusion_matrix(df.actual, df.baseline,\n",
    "                 labels = ('dog', 'cat'))"
   ]
  },
  {
   "cell_type": "code",
   "execution_count": 27,
   "id": "72609cca",
   "metadata": {},
   "outputs": [
    {
     "data": {
      "text/plain": [
       "0.6508"
      ]
     },
     "execution_count": 27,
     "metadata": {},
     "output_type": "execute_result"
    }
   ],
   "source": [
    "accuracy(3254, 1746, 0, 0)"
   ]
  },
  {
   "cell_type": "code",
   "execution_count": 28,
   "id": "d1dfead5",
   "metadata": {},
   "outputs": [
    {
     "data": {
      "text/plain": [
       "0.6508"
      ]
     },
     "execution_count": 28,
     "metadata": {},
     "output_type": "execute_result"
    }
   ],
   "source": [
    "precision(3254, 1746, 0, 0)"
   ]
  },
  {
   "cell_type": "code",
   "execution_count": 29,
   "id": "b4aa62d2",
   "metadata": {},
   "outputs": [
    {
     "data": {
      "text/plain": [
       "1.0"
      ]
     },
     "execution_count": 29,
     "metadata": {},
     "output_type": "execute_result"
    }
   ],
   "source": [
    "recall(3254, 1746, 0, 0)"
   ]
  },
  {
   "cell_type": "code",
   "execution_count": 55,
   "id": "bbe33813",
   "metadata": {},
   "outputs": [],
   "source": [
    "# ACTUAL X BASELINE RESULTS\n",
    "# -- accuracy = 0.6508\n",
    "# -- precision = 0.6508\n",
    "# -- recall = 1.0"
   ]
  },
  {
   "cell_type": "code",
   "execution_count": 48,
   "id": "2a7ef786",
   "metadata": {},
   "outputs": [],
   "source": [
    "# actual x model_1\n",
    "\n",
    "a_m1 = pd.crosstab(df['model1'], df['actual'])"
   ]
  },
  {
   "cell_type": "code",
   "execution_count": 49,
   "id": "301447c2",
   "metadata": {},
   "outputs": [],
   "source": [
    "model1_cm = confusion_matrix(df.actual, df.model1,\n",
    "                 labels = ('dog', 'cat'))"
   ]
  },
  {
   "cell_type": "code",
   "execution_count": null,
   "id": "1522a721",
   "metadata": {},
   "outputs": [],
   "source": [
    "# TP = 2614, TN = 1423, FP = 323, FN = 640"
   ]
  },
  {
   "cell_type": "code",
   "execution_count": 30,
   "id": "7d4487a8",
   "metadata": {},
   "outputs": [
    {
     "data": {
      "text/plain": [
       "0.6508"
      ]
     },
     "execution_count": 30,
     "metadata": {},
     "output_type": "execute_result"
    }
   ],
   "source": [
    "accuracy(2614, 1423, 323, 640)"
   ]
  },
  {
   "cell_type": "code",
   "execution_count": 32,
   "id": "3b9d6123",
   "metadata": {},
   "outputs": [
    {
     "data": {
      "text/plain": [
       "0.6475105276195194"
      ]
     },
     "execution_count": 32,
     "metadata": {},
     "output_type": "execute_result"
    }
   ],
   "source": [
    "precision(2614, 1423, 323, 640)"
   ]
  },
  {
   "cell_type": "code",
   "execution_count": 33,
   "id": "71c21a52",
   "metadata": {},
   "outputs": [
    {
     "data": {
      "text/plain": [
       "0.8900238338440586"
      ]
     },
     "execution_count": 33,
     "metadata": {},
     "output_type": "execute_result"
    }
   ],
   "source": [
    "recall(2614, 1423, 323, 640)"
   ]
  },
  {
   "cell_type": "code",
   "execution_count": 56,
   "id": "67f3a805",
   "metadata": {},
   "outputs": [],
   "source": [
    "# ACTUAL X MODEL_1\n",
    "# -- accuracy = 0.6508\n",
    "# -- precision = 0.6475\n",
    "# -- recall = 0.8900"
   ]
  },
  {
   "cell_type": "code",
   "execution_count": 50,
   "id": "bfaa9a77",
   "metadata": {},
   "outputs": [],
   "source": [
    "# actual x model_2\n",
    "\n",
    "a_m2 = pd.crosstab(df['model2'], df['actual'])"
   ]
  },
  {
   "cell_type": "code",
   "execution_count": 45,
   "id": "778121ba",
   "metadata": {},
   "outputs": [],
   "source": [
    "model2_cm = confusion_matrix(df.actual, df.model2,\n",
    "                 labels = ('dog', 'cat'))"
   ]
  },
  {
   "cell_type": "code",
   "execution_count": null,
   "id": "ed6dc1b0",
   "metadata": {},
   "outputs": [],
   "source": [
    "# TP = 1597, TN = 1555, FP = 191, FN = 1657"
   ]
  },
  {
   "cell_type": "code",
   "execution_count": 34,
   "id": "c5ecdc38",
   "metadata": {},
   "outputs": [
    {
     "data": {
      "text/plain": [
       "0.6508"
      ]
     },
     "execution_count": 34,
     "metadata": {},
     "output_type": "execute_result"
    }
   ],
   "source": [
    "accuracy(1597, 1555, 191, 1657)"
   ]
  },
  {
   "cell_type": "code",
   "execution_count": 35,
   "id": "a7cc58ad",
   "metadata": {},
   "outputs": [
    {
     "data": {
      "text/plain": [
       "0.5066624365482234"
      ]
     },
     "execution_count": 35,
     "metadata": {},
     "output_type": "execute_result"
    }
   ],
   "source": [
    "precision(1597, 1555, 191, 1657)"
   ]
  },
  {
   "cell_type": "code",
   "execution_count": 36,
   "id": "5dc41745",
   "metadata": {},
   "outputs": [
    {
     "data": {
      "text/plain": [
       "0.8931767337807607"
      ]
     },
     "execution_count": 36,
     "metadata": {},
     "output_type": "execute_result"
    }
   ],
   "source": [
    "recall(1597, 1555, 191, 1657)"
   ]
  },
  {
   "cell_type": "code",
   "execution_count": 60,
   "id": "a6ef9bbb",
   "metadata": {},
   "outputs": [],
   "source": [
    "# ACTUAL X MODEL_2\n",
    "# -- accuracy = 0.6508\n",
    "# -- precision = 0.5067\n",
    "# -- recall = 0.8932"
   ]
  },
  {
   "cell_type": "code",
   "execution_count": 51,
   "id": "7a86e147",
   "metadata": {},
   "outputs": [],
   "source": [
    "# actual x model_3\n",
    "\n",
    "a_m3 = pd.crosstab(df['model3'], df['actual'])"
   ]
  },
  {
   "cell_type": "code",
   "execution_count": 44,
   "id": "82d3a210",
   "metadata": {},
   "outputs": [],
   "source": [
    "model3_cm = confusion_matrix(df.actual, df.model3,\n",
    "                 labels = ('dog', 'cat'))"
   ]
  },
  {
   "cell_type": "code",
   "execution_count": null,
   "id": "fc0dcfee",
   "metadata": {},
   "outputs": [],
   "source": [
    "# TP = 1655, TN = 893, FP = 853, FN = 1599"
   ]
  },
  {
   "cell_type": "code",
   "execution_count": 37,
   "id": "fa5295d6",
   "metadata": {},
   "outputs": [
    {
     "data": {
      "text/plain": [
       "0.6508"
      ]
     },
     "execution_count": 37,
     "metadata": {},
     "output_type": "execute_result"
    }
   ],
   "source": [
    "accuracy(1655, 893, 853, 1599)"
   ]
  },
  {
   "cell_type": "code",
   "execution_count": 38,
   "id": "a9df077f",
   "metadata": {},
   "outputs": [
    {
     "data": {
      "text/plain": [
       "0.6495290423861853"
      ]
     },
     "execution_count": 38,
     "metadata": {},
     "output_type": "execute_result"
    }
   ],
   "source": [
    "precision(1655, 893, 853, 1599)"
   ]
  },
  {
   "cell_type": "code",
   "execution_count": 39,
   "id": "9b97b617",
   "metadata": {},
   "outputs": [
    {
     "data": {
      "text/plain": [
       "0.6598883572567783"
      ]
     },
     "execution_count": 39,
     "metadata": {},
     "output_type": "execute_result"
    }
   ],
   "source": [
    "recall(1655, 893, 853, 1599)"
   ]
  },
  {
   "cell_type": "code",
   "execution_count": 61,
   "id": "b9c29b44",
   "metadata": {},
   "outputs": [],
   "source": [
    "# ACTUAL X MODEL_3\n",
    "# -- accuracy = 0.6508\n",
    "# -- precision = 0.6495\n",
    "# -- recall = 0.6599"
   ]
  },
  {
   "cell_type": "code",
   "execution_count": 52,
   "id": "c7f896a6",
   "metadata": {},
   "outputs": [],
   "source": [
    "# actual x model_4\n",
    "\n",
    "a_m4 = pd.crosstab(df['model4'], df['actual'])"
   ]
  },
  {
   "cell_type": "code",
   "execution_count": 53,
   "id": "f37693ed",
   "metadata": {},
   "outputs": [],
   "source": [
    "model4_cm = confusion_matrix(df.actual, df.model4,\n",
    "                 labels = ('dog', 'cat'))"
   ]
  },
  {
   "cell_type": "code",
   "execution_count": 40,
   "id": "a8e739a6",
   "metadata": {},
   "outputs": [],
   "source": [
    "# TP = 3110, TN = 603, FP = 1143, FN = 144"
   ]
  },
  {
   "cell_type": "code",
   "execution_count": 41,
   "id": "8b40c84b",
   "metadata": {},
   "outputs": [
    {
     "data": {
      "text/plain": [
       "0.6508"
      ]
     },
     "execution_count": 41,
     "metadata": {},
     "output_type": "execute_result"
    }
   ],
   "source": [
    "accuracy(3110, 603, 1143, 144)"
   ]
  },
  {
   "cell_type": "code",
   "execution_count": 42,
   "id": "694c5519",
   "metadata": {},
   "outputs": [
    {
     "data": {
      "text/plain": [
       "0.8375976299488285"
      ]
     },
     "execution_count": 42,
     "metadata": {},
     "output_type": "execute_result"
    }
   ],
   "source": [
    "precision(3110, 603, 1143, 144)"
   ]
  },
  {
   "cell_type": "code",
   "execution_count": 43,
   "id": "8e021610",
   "metadata": {},
   "outputs": [
    {
     "data": {
      "text/plain": [
       "0.7312485304490948"
      ]
     },
     "execution_count": 43,
     "metadata": {},
     "output_type": "execute_result"
    }
   ],
   "source": [
    "recall(3110, 603, 1143, 144)"
   ]
  },
  {
   "cell_type": "code",
   "execution_count": 62,
   "id": "2916702c",
   "metadata": {},
   "outputs": [],
   "source": [
    "# ACTUAL X MODEL_4\n",
    "# -- accuracy = 0.6508\n",
    "# -- precision = 0.8376\n",
    "# -- recall = 0.7312"
   ]
  },
  {
   "cell_type": "code",
   "execution_count": 64,
   "id": "e2015605",
   "metadata": {},
   "outputs": [],
   "source": [
    "# ACTUAL X BASELINE RESULTS\n",
    "# -- accuracy = 0.6508\n",
    "# -- precision = 0.6508\n",
    "# -- recall = 1.0\n",
    "\n",
    "# ACTUAL X MODEL_1\n",
    "# -- accuracy = 0.6508\n",
    "# -- precision = 0.6475\n",
    "# -- recall = 0.8900\n",
    "\n",
    "# ACTUAL X MODEL_2\n",
    "# -- accuracy = 0.6508\n",
    "# -- precision = 0.5067\n",
    "# -- recall = 0.8932\n",
    "\n",
    "# ACTUAL X MODEL_3\n",
    "# -- accuracy = 0.6508\n",
    "# -- precision = 0.6495\n",
    "# -- recall = 0.6599\n",
    "\n",
    "# ACTUAL X MODEL_4\n",
    "# -- accuracy = 0.6508\n",
    "# -- precision = 0.8376\n",
    "# -- recall = 0.7312\n",
    "\n",
    "\n",
    "# all models have an equal accuracy rate. \n",
    "# Model_4 (precision = 0.8376) is the only model with a better \n",
    "# -- precision rate than the baseline (0.6508).\n",
    "# The baseline had the best recall rate (1.0)"
   ]
  },
  {
   "cell_type": "markdown",
   "id": "f7a5b9fa",
   "metadata": {},
   "source": [
    "##### 4b. Suppose you are working on a team that solely deals with dog pictures. Which of these models would you recommend?"
   ]
  },
  {
   "cell_type": "code",
   "execution_count": null,
   "id": "ecfc9d39",
   "metadata": {},
   "outputs": [],
   "source": [
    "# the baseline because it predicts all dogs"
   ]
  },
  {
   "cell_type": "markdown",
   "id": "a2d4a0dd",
   "metadata": {},
   "source": [
    "##### 4c. Suppose you are working on a team that solely deals with cat pictures. Which of these models would you recommend?"
   ]
  },
  {
   "cell_type": "code",
   "execution_count": null,
   "id": "d8ef29cd",
   "metadata": {},
   "outputs": [],
   "source": []
  },
  {
   "cell_type": "code",
   "execution_count": null,
   "id": "8927069b",
   "metadata": {},
   "outputs": [],
   "source": []
  },
  {
   "cell_type": "code",
   "execution_count": null,
   "id": "d5ba84f8",
   "metadata": {},
   "outputs": [],
   "source": []
  },
  {
   "cell_type": "code",
   "execution_count": null,
   "id": "912bcc3b",
   "metadata": {},
   "outputs": [],
   "source": []
  },
  {
   "cell_type": "code",
   "execution_count": null,
   "id": "7a015366",
   "metadata": {},
   "outputs": [],
   "source": []
  }
 ],
 "metadata": {
  "kernelspec": {
   "display_name": "Python 3 (ipykernel)",
   "language": "python",
   "name": "python3"
  },
  "language_info": {
   "codemirror_mode": {
    "name": "ipython",
    "version": 3
   },
   "file_extension": ".py",
   "mimetype": "text/x-python",
   "name": "python",
   "nbconvert_exporter": "python",
   "pygments_lexer": "ipython3",
   "version": "3.9.13"
  }
 },
 "nbformat": 4,
 "nbformat_minor": 5
}
