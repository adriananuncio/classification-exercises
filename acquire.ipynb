{
 "cells": [
  {
   "cell_type": "code",
   "execution_count": 1,
   "id": "59e24378",
   "metadata": {},
   "outputs": [],
   "source": [
    "import numpy as np\n",
    "import pandas as pd\n",
    "from env import host, user, password\n",
    "import os"
   ]
  },
  {
   "cell_type": "code",
   "execution_count": 2,
   "id": "4da0c4ce",
   "metadata": {},
   "outputs": [],
   "source": [
    "def get_connection(schema,\n",
    "                  user=user,\n",
    "                  host=host,\n",
    "                  password=password):\n",
    "    return f'mysql+pymysql://{user}:{password}@{host}/{schema}'"
   ]
  },
  {
   "cell_type": "code",
   "execution_count": 14,
   "id": "0b0994ee",
   "metadata": {},
   "outputs": [],
   "source": [
    "def get_titanic_data():\n",
    "    if os.path.exists('titanic.csv'):\n",
    "        df = pd.read_csv('titanic.csv', index_col=0)\n",
    "    else: \n",
    "        query = 'SELECT * FROM passengers'\n",
    "        connection = get_connection('titanic_db')\n",
    "        df = pd.read_sql(query, connection)\n",
    "        df.to_csv('titanic.csv')    \n",
    "    return df "
   ]
  },
  {
   "cell_type": "code",
   "execution_count": 15,
   "id": "2529cda3",
   "metadata": {},
   "outputs": [],
   "source": [
    "df = get_titanic_data()"
   ]
  },
  {
   "cell_type": "markdown",
   "id": "042ced9c",
   "metadata": {},
   "source": [
    "##### "
   ]
  },
  {
   "cell_type": "markdown",
   "id": "4e383b2c",
   "metadata": {},
   "source": [
    "### get_iris_data"
   ]
  },
  {
   "cell_type": "code",
   "execution_count": 16,
   "id": "d3af2f19",
   "metadata": {},
   "outputs": [],
   "source": [
    "query = '''SELECT measurement_id,\n",
    "sepal_length,\n",
    "sepal_width,\n",
    "petal_width,\n",
    "species_name\n",
    "FROM measurements\n",
    "LEFT JOIN species USING(species_id)'''\n",
    "connection = get_connection('iris_db')"
   ]
  },
  {
   "cell_type": "code",
   "execution_count": 17,
   "id": "aae8b0ce",
   "metadata": {},
   "outputs": [],
   "source": [
    "def get_iris_data():\n",
    "    if os.path.exists('iris.csv'):\n",
    "        df = pd.read_csv('iris.csv', index_col=0)\n",
    "    else:\n",
    "        query = '''SELECT measurement_id,\n",
    "        sepal_length,\n",
    "        sepal_width,\n",
    "        petal_width,\n",
    "        species_name\n",
    "        FROM measurements\n",
    "        LEFT JOIN species USING(species_id)'''\n",
    "        connection = get_connection('iris_db')\n",
    "        df = pd.read_sql(query, connection)\n",
    "        df.to_csv('iris.csv')\n",
    "    return df"
   ]
  },
  {
   "cell_type": "code",
   "execution_count": 18,
   "id": "cb611b86",
   "metadata": {},
   "outputs": [],
   "source": [
    "df_iris = get_iris_data()"
   ]
  },
  {
   "cell_type": "markdown",
   "id": "4ebe7446",
   "metadata": {},
   "source": [
    "##### "
   ]
  },
  {
   "cell_type": "markdown",
   "id": "703c0007",
   "metadata": {},
   "source": [
    "### get_telco_data"
   ]
  },
  {
   "cell_type": "code",
   "execution_count": 19,
   "id": "07b4f449",
   "metadata": {},
   "outputs": [],
   "source": [
    "query = '''SELECT * FROM customers\n",
    "LEFT JOIN contract_types USING(contract_type_id)\n",
    "LEFT JOIN internet_service_types USING (internet_service_type_id)\n",
    "LEFT JOIN payment_types USING (payment_type_id)'''\n",
    "connection = get_connection('telco_churn')"
   ]
  },
  {
   "cell_type": "code",
   "execution_count": 20,
   "id": "3eefc719",
   "metadata": {},
   "outputs": [],
   "source": [
    "def get_telco_data():\n",
    "    if os.path.exists('telco_churn.csv'):\n",
    "        df = pd.read_csv('telco_churn.csv', index_col=0)\n",
    "    else: \n",
    "        query = '''SELECT * FROM customers\n",
    "        LEFT JOIN contract_types USING(contract_type_id)\n",
    "        LEFT JOIN internet_service_types USING (internet_service_type_id)\n",
    "        LEFT JOIN payment_types USING (payment_type_id)'''\n",
    "        connection = get_connection('telco_churn')\n",
    "        df = pd.read_sql(query, connection)\n",
    "        df.to_csv('telco_churn.csv')\n",
    "    return df"
   ]
  },
  {
   "cell_type": "code",
   "execution_count": 21,
   "id": "4fb9d237",
   "metadata": {},
   "outputs": [],
   "source": [
    "telco = get_telco_data"
   ]
  },
  {
   "cell_type": "markdown",
   "id": "678b3608",
   "metadata": {},
   "source": [
    "##### "
   ]
  }
 ],
 "metadata": {
  "kernelspec": {
   "display_name": "Python 3 (ipykernel)",
   "language": "python",
   "name": "python3"
  },
  "language_info": {
   "codemirror_mode": {
    "name": "ipython",
    "version": 3
   },
   "file_extension": ".py",
   "mimetype": "text/x-python",
   "name": "python",
   "nbconvert_exporter": "python",
   "pygments_lexer": "ipython3",
   "version": "3.9.13"
  }
 },
 "nbformat": 4,
 "nbformat_minor": 5
}
